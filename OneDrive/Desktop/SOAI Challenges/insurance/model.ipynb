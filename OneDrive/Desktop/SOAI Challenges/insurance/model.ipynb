{
 "cells": [
  {
   "attachments": {},
   "cell_type": "markdown",
   "metadata": {},
   "source": [
    "# Importing"
   ]
  },
  {
   "cell_type": "code",
   "execution_count": 255,
   "metadata": {},
   "outputs": [],
   "source": [
    "import pandas as pd\n",
    "import numpy as np\n",
    "import sklearn\n",
    "import tensorflow as tf\n",
    "import matplotlib.pyplot as plt\n",
    "import matplotlib\n",
    "\n",
    "%matplotlib inline"
   ]
  },
  {
   "attachments": {},
   "cell_type": "markdown",
   "metadata": {},
   "source": [
    "# Data"
   ]
  },
  {
   "cell_type": "code",
   "execution_count": 256,
   "metadata": {},
   "outputs": [],
   "source": [
    "data_train = pd.read_csv('./data/insurance_train_data.csv')\n",
    "data_test = pd.read_csv('./data/insurance_test_data_version2.csv')"
   ]
  },
  {
   "cell_type": "code",
   "execution_count": 257,
   "metadata": {},
   "outputs": [
    {
     "data": {
      "text/html": [
       "<div>\n",
       "<style scoped>\n",
       "    .dataframe tbody tr th:only-of-type {\n",
       "        vertical-align: middle;\n",
       "    }\n",
       "\n",
       "    .dataframe tbody tr th {\n",
       "        vertical-align: top;\n",
       "    }\n",
       "\n",
       "    .dataframe thead th {\n",
       "        text-align: right;\n",
       "    }\n",
       "</style>\n",
       "<table border=\"1\" class=\"dataframe\">\n",
       "  <thead>\n",
       "    <tr style=\"text-align: right;\">\n",
       "      <th></th>\n",
       "      <th>Customer Id</th>\n",
       "      <th>YearOfObservation</th>\n",
       "      <th>Insured_Period</th>\n",
       "      <th>Residential</th>\n",
       "      <th>Building_Painted</th>\n",
       "      <th>Building_Fenced</th>\n",
       "      <th>Garden</th>\n",
       "      <th>Settlement</th>\n",
       "      <th>Building Dimension</th>\n",
       "      <th>Building_Type</th>\n",
       "      <th>Date_of_Occupancy</th>\n",
       "      <th>NumberOfWindows</th>\n",
       "      <th>Geo_Code</th>\n",
       "      <th>Claim</th>\n",
       "    </tr>\n",
       "  </thead>\n",
       "  <tbody>\n",
       "    <tr>\n",
       "      <th>0</th>\n",
       "      <td>H14663</td>\n",
       "      <td>2013</td>\n",
       "      <td>1.0</td>\n",
       "      <td>0</td>\n",
       "      <td>N</td>\n",
       "      <td>V</td>\n",
       "      <td>V</td>\n",
       "      <td>U</td>\n",
       "      <td>290.0</td>\n",
       "      <td>1</td>\n",
       "      <td>1960.0</td>\n",
       "      <td>.</td>\n",
       "      <td>1053</td>\n",
       "      <td>0</td>\n",
       "    </tr>\n",
       "    <tr>\n",
       "      <th>1</th>\n",
       "      <td>H2037</td>\n",
       "      <td>2015</td>\n",
       "      <td>1.0</td>\n",
       "      <td>0</td>\n",
       "      <td>V</td>\n",
       "      <td>N</td>\n",
       "      <td>O</td>\n",
       "      <td>R</td>\n",
       "      <td>490.0</td>\n",
       "      <td>1</td>\n",
       "      <td>1850.0</td>\n",
       "      <td>4</td>\n",
       "      <td>1053</td>\n",
       "      <td>0</td>\n",
       "    </tr>\n",
       "    <tr>\n",
       "      <th>2</th>\n",
       "      <td>H3802</td>\n",
       "      <td>2014</td>\n",
       "      <td>1.0</td>\n",
       "      <td>0</td>\n",
       "      <td>N</td>\n",
       "      <td>V</td>\n",
       "      <td>V</td>\n",
       "      <td>U</td>\n",
       "      <td>595.0</td>\n",
       "      <td>1</td>\n",
       "      <td>1960.0</td>\n",
       "      <td>.</td>\n",
       "      <td>1053</td>\n",
       "      <td>0</td>\n",
       "    </tr>\n",
       "    <tr>\n",
       "      <th>3</th>\n",
       "      <td>H3834</td>\n",
       "      <td>2013</td>\n",
       "      <td>1.0</td>\n",
       "      <td>0</td>\n",
       "      <td>V</td>\n",
       "      <td>V</td>\n",
       "      <td>V</td>\n",
       "      <td>U</td>\n",
       "      <td>2840.0</td>\n",
       "      <td>1</td>\n",
       "      <td>1960.0</td>\n",
       "      <td>.</td>\n",
       "      <td>1053</td>\n",
       "      <td>0</td>\n",
       "    </tr>\n",
       "    <tr>\n",
       "      <th>4</th>\n",
       "      <td>H5053</td>\n",
       "      <td>2014</td>\n",
       "      <td>1.0</td>\n",
       "      <td>0</td>\n",
       "      <td>V</td>\n",
       "      <td>N</td>\n",
       "      <td>O</td>\n",
       "      <td>R</td>\n",
       "      <td>680.0</td>\n",
       "      <td>1</td>\n",
       "      <td>1800.0</td>\n",
       "      <td>3</td>\n",
       "      <td>1053</td>\n",
       "      <td>0</td>\n",
       "    </tr>\n",
       "    <tr>\n",
       "      <th>5</th>\n",
       "      <td>H4977</td>\n",
       "      <td>2012</td>\n",
       "      <td>1.0</td>\n",
       "      <td>0</td>\n",
       "      <td>V</td>\n",
       "      <td>N</td>\n",
       "      <td>O</td>\n",
       "      <td>R</td>\n",
       "      <td>535.0</td>\n",
       "      <td>1</td>\n",
       "      <td>1980.0</td>\n",
       "      <td>3</td>\n",
       "      <td>1143</td>\n",
       "      <td>0</td>\n",
       "    </tr>\n",
       "    <tr>\n",
       "      <th>6</th>\n",
       "      <td>H7390</td>\n",
       "      <td>2012</td>\n",
       "      <td>1.0</td>\n",
       "      <td>0</td>\n",
       "      <td>N</td>\n",
       "      <td>V</td>\n",
       "      <td>V</td>\n",
       "      <td>U</td>\n",
       "      <td>2830.0</td>\n",
       "      <td>1</td>\n",
       "      <td>1988.0</td>\n",
       "      <td>.</td>\n",
       "      <td>1143</td>\n",
       "      <td>1</td>\n",
       "    </tr>\n",
       "    <tr>\n",
       "      <th>7</th>\n",
       "      <td>H14488</td>\n",
       "      <td>2015</td>\n",
       "      <td>1.0</td>\n",
       "      <td>0</td>\n",
       "      <td>N</td>\n",
       "      <td>V</td>\n",
       "      <td>V</td>\n",
       "      <td>U</td>\n",
       "      <td>4952.0</td>\n",
       "      <td>1</td>\n",
       "      <td>1988.0</td>\n",
       "      <td>.</td>\n",
       "      <td>1160</td>\n",
       "      <td>1</td>\n",
       "    </tr>\n",
       "    <tr>\n",
       "      <th>8</th>\n",
       "      <td>H19355</td>\n",
       "      <td>2014</td>\n",
       "      <td>1.0</td>\n",
       "      <td>0</td>\n",
       "      <td>V</td>\n",
       "      <td>N</td>\n",
       "      <td>O</td>\n",
       "      <td>R</td>\n",
       "      <td>2735.0</td>\n",
       "      <td>1</td>\n",
       "      <td>2013.0</td>\n",
       "      <td>3</td>\n",
       "      <td>1173</td>\n",
       "      <td>1</td>\n",
       "    </tr>\n",
       "    <tr>\n",
       "      <th>9</th>\n",
       "      <td>H18601</td>\n",
       "      <td>2015</td>\n",
       "      <td>1.0</td>\n",
       "      <td>0</td>\n",
       "      <td>V</td>\n",
       "      <td>N</td>\n",
       "      <td>O</td>\n",
       "      <td>R</td>\n",
       "      <td>520.0</td>\n",
       "      <td>1</td>\n",
       "      <td>2011.0</td>\n",
       "      <td>2</td>\n",
       "      <td>1224</td>\n",
       "      <td>0</td>\n",
       "    </tr>\n",
       "  </tbody>\n",
       "</table>\n",
       "</div>"
      ],
      "text/plain": [
       "  Customer Id  YearOfObservation  Insured_Period  Residential  \\\n",
       "0      H14663               2013             1.0            0   \n",
       "1       H2037               2015             1.0            0   \n",
       "2       H3802               2014             1.0            0   \n",
       "3       H3834               2013             1.0            0   \n",
       "4       H5053               2014             1.0            0   \n",
       "5       H4977               2012             1.0            0   \n",
       "6       H7390               2012             1.0            0   \n",
       "7      H14488               2015             1.0            0   \n",
       "8      H19355               2014             1.0            0   \n",
       "9      H18601               2015             1.0            0   \n",
       "\n",
       "  Building_Painted Building_Fenced Garden Settlement  Building Dimension  \\\n",
       "0                N               V      V          U               290.0   \n",
       "1                V               N      O          R               490.0   \n",
       "2                N               V      V          U               595.0   \n",
       "3                V               V      V          U              2840.0   \n",
       "4                V               N      O          R               680.0   \n",
       "5                V               N      O          R               535.0   \n",
       "6                N               V      V          U              2830.0   \n",
       "7                N               V      V          U              4952.0   \n",
       "8                V               N      O          R              2735.0   \n",
       "9                V               N      O          R               520.0   \n",
       "\n",
       "   Building_Type  Date_of_Occupancy NumberOfWindows Geo_Code  Claim  \n",
       "0              1             1960.0               .     1053      0  \n",
       "1              1             1850.0               4     1053      0  \n",
       "2              1             1960.0               .     1053      0  \n",
       "3              1             1960.0               .     1053      0  \n",
       "4              1             1800.0               3     1053      0  \n",
       "5              1             1980.0               3     1143      0  \n",
       "6              1             1988.0               .     1143      1  \n",
       "7              1             1988.0               .     1160      1  \n",
       "8              1             2013.0               3     1173      1  \n",
       "9              1             2011.0               2     1224      0  "
      ]
     },
     "execution_count": 257,
     "metadata": {},
     "output_type": "execute_result"
    }
   ],
   "source": [
    "data_train.head(10)"
   ]
  },
  {
   "cell_type": "code",
   "execution_count": 258,
   "metadata": {},
   "outputs": [
    {
     "data": {
      "text/html": [
       "<div>\n",
       "<style scoped>\n",
       "    .dataframe tbody tr th:only-of-type {\n",
       "        vertical-align: middle;\n",
       "    }\n",
       "\n",
       "    .dataframe tbody tr th {\n",
       "        vertical-align: top;\n",
       "    }\n",
       "\n",
       "    .dataframe thead th {\n",
       "        text-align: right;\n",
       "    }\n",
       "</style>\n",
       "<table border=\"1\" class=\"dataframe\">\n",
       "  <thead>\n",
       "    <tr style=\"text-align: right;\">\n",
       "      <th></th>\n",
       "      <th>YearOfObservation</th>\n",
       "      <th>Insured_Period</th>\n",
       "      <th>Residential</th>\n",
       "      <th>Building Dimension</th>\n",
       "      <th>Building_Type</th>\n",
       "      <th>Date_of_Occupancy</th>\n",
       "      <th>Claim</th>\n",
       "    </tr>\n",
       "  </thead>\n",
       "  <tbody>\n",
       "    <tr>\n",
       "      <th>count</th>\n",
       "      <td>7160.000000</td>\n",
       "      <td>7160.000000</td>\n",
       "      <td>7160.000000</td>\n",
       "      <td>7054.000000</td>\n",
       "      <td>7160.000000</td>\n",
       "      <td>6658.000000</td>\n",
       "      <td>7160.000000</td>\n",
       "    </tr>\n",
       "    <tr>\n",
       "      <th>mean</th>\n",
       "      <td>2013.670112</td>\n",
       "      <td>0.909864</td>\n",
       "      <td>0.305726</td>\n",
       "      <td>1883.727530</td>\n",
       "      <td>2.186034</td>\n",
       "      <td>1964.450285</td>\n",
       "      <td>0.231145</td>\n",
       "    </tr>\n",
       "    <tr>\n",
       "      <th>std</th>\n",
       "      <td>1.383902</td>\n",
       "      <td>0.239628</td>\n",
       "      <td>0.460747</td>\n",
       "      <td>2278.157745</td>\n",
       "      <td>0.940632</td>\n",
       "      <td>35.989880</td>\n",
       "      <td>0.421595</td>\n",
       "    </tr>\n",
       "    <tr>\n",
       "      <th>min</th>\n",
       "      <td>2012.000000</td>\n",
       "      <td>0.000000</td>\n",
       "      <td>0.000000</td>\n",
       "      <td>1.000000</td>\n",
       "      <td>1.000000</td>\n",
       "      <td>1545.000000</td>\n",
       "      <td>0.000000</td>\n",
       "    </tr>\n",
       "    <tr>\n",
       "      <th>25%</th>\n",
       "      <td>2012.000000</td>\n",
       "      <td>0.997268</td>\n",
       "      <td>0.000000</td>\n",
       "      <td>528.000000</td>\n",
       "      <td>2.000000</td>\n",
       "      <td>1960.000000</td>\n",
       "      <td>0.000000</td>\n",
       "    </tr>\n",
       "    <tr>\n",
       "      <th>50%</th>\n",
       "      <td>2013.000000</td>\n",
       "      <td>1.000000</td>\n",
       "      <td>0.000000</td>\n",
       "      <td>1083.000000</td>\n",
       "      <td>2.000000</td>\n",
       "      <td>1970.000000</td>\n",
       "      <td>0.000000</td>\n",
       "    </tr>\n",
       "    <tr>\n",
       "      <th>75%</th>\n",
       "      <td>2015.000000</td>\n",
       "      <td>1.000000</td>\n",
       "      <td>1.000000</td>\n",
       "      <td>2289.750000</td>\n",
       "      <td>3.000000</td>\n",
       "      <td>1980.000000</td>\n",
       "      <td>0.000000</td>\n",
       "    </tr>\n",
       "    <tr>\n",
       "      <th>max</th>\n",
       "      <td>2016.000000</td>\n",
       "      <td>1.000000</td>\n",
       "      <td>1.000000</td>\n",
       "      <td>20940.000000</td>\n",
       "      <td>4.000000</td>\n",
       "      <td>2016.000000</td>\n",
       "      <td>1.000000</td>\n",
       "    </tr>\n",
       "  </tbody>\n",
       "</table>\n",
       "</div>"
      ],
      "text/plain": [
       "       YearOfObservation  Insured_Period  Residential  Building Dimension  \\\n",
       "count        7160.000000     7160.000000  7160.000000         7054.000000   \n",
       "mean         2013.670112        0.909864     0.305726         1883.727530   \n",
       "std             1.383902        0.239628     0.460747         2278.157745   \n",
       "min          2012.000000        0.000000     0.000000            1.000000   \n",
       "25%          2012.000000        0.997268     0.000000          528.000000   \n",
       "50%          2013.000000        1.000000     0.000000         1083.000000   \n",
       "75%          2015.000000        1.000000     1.000000         2289.750000   \n",
       "max          2016.000000        1.000000     1.000000        20940.000000   \n",
       "\n",
       "       Building_Type  Date_of_Occupancy        Claim  \n",
       "count    7160.000000        6658.000000  7160.000000  \n",
       "mean        2.186034        1964.450285     0.231145  \n",
       "std         0.940632          35.989880     0.421595  \n",
       "min         1.000000        1545.000000     0.000000  \n",
       "25%         2.000000        1960.000000     0.000000  \n",
       "50%         2.000000        1970.000000     0.000000  \n",
       "75%         3.000000        1980.000000     0.000000  \n",
       "max         4.000000        2016.000000     1.000000  "
      ]
     },
     "execution_count": 258,
     "metadata": {},
     "output_type": "execute_result"
    }
   ],
   "source": [
    "data_train.describe()"
   ]
  },
  {
   "cell_type": "code",
   "execution_count": 259,
   "metadata": {},
   "outputs": [],
   "source": [
    "data_train[\"Building_Painted\"].replace({\"N\":1, \"V\":0}, inplace=True)\n",
    "\n",
    "data_train[\"Building_Fenced\"].replace({\"N\":1, \"V\":0}, inplace=True)\n",
    "\n",
    "data_train[\"Garden\"].replace({\"V\":1, \"O\":0}, inplace=True)\n",
    "\n",
    "data_train[\"Settlement\"].replace({\"R\":1, \"U\":0}, inplace=True)"
   ]
  },
  {
   "cell_type": "code",
   "execution_count": 260,
   "metadata": {},
   "outputs": [
    {
     "name": "stdout",
     "output_type": "stream",
     "text": [
      "<class 'pandas.core.frame.DataFrame'>\n",
      "RangeIndex: 7160 entries, 0 to 7159\n",
      "Data columns (total 14 columns):\n",
      " #   Column              Non-Null Count  Dtype  \n",
      "---  ------              --------------  -----  \n",
      " 0   Customer Id         7160 non-null   object \n",
      " 1   YearOfObservation   7160 non-null   int64  \n",
      " 2   Insured_Period      7160 non-null   float64\n",
      " 3   Residential         7160 non-null   int64  \n",
      " 4   Building_Painted    7160 non-null   int64  \n",
      " 5   Building_Fenced     7160 non-null   int64  \n",
      " 6   Garden              7153 non-null   float64\n",
      " 7   Settlement          7160 non-null   int64  \n",
      " 8   Building Dimension  7054 non-null   float64\n",
      " 9   Building_Type       7160 non-null   int64  \n",
      " 10  Date_of_Occupancy   6658 non-null   float64\n",
      " 11  NumberOfWindows     7160 non-null   object \n",
      " 12  Geo_Code            7058 non-null   object \n",
      " 13  Claim               7160 non-null   int64  \n",
      "dtypes: float64(4), int64(7), object(3)\n",
      "memory usage: 783.2+ KB\n"
     ]
    }
   ],
   "source": [
    "data_train.info()"
   ]
  },
  {
   "cell_type": "code",
   "execution_count": 261,
   "metadata": {},
   "outputs": [
    {
     "data": {
      "text/plain": [
       ".       3542\n",
       "4        940\n",
       "3        850\n",
       "5        639\n",
       "2        364\n",
       "6        306\n",
       "7        212\n",
       "8        116\n",
       "1         75\n",
       ">=10      66\n",
       "9         50\n",
       "Name: NumberOfWindows, dtype: int64"
      ]
     },
     "execution_count": 261,
     "metadata": {},
     "output_type": "execute_result"
    }
   ],
   "source": [
    "data_train[\"NumberOfWindows\"].value_counts()"
   ]
  },
  {
   "cell_type": "code",
   "execution_count": 262,
   "metadata": {},
   "outputs": [],
   "source": [
    "data_train[\"NumberOfWindows\"].replace({\n",
    "    \".\":0,\n",
    "    \"1\":1,\n",
    "    \"2\":2,\n",
    "    \"3\":3,\n",
    "    \"4\":4,\n",
    "    \"5\":5,\n",
    "    \"6\":6,\n",
    "    \"7\":7,\n",
    "    \"8\":8,\n",
    "    \"9\":9,\n",
    "    \">=10\":10}, inplace=True)"
   ]
  },
  {
   "cell_type": "code",
   "execution_count": 263,
   "metadata": {},
   "outputs": [
    {
     "data": {
      "text/plain": [
       "6088     143\n",
       "33063    137\n",
       "6083     113\n",
       "13206     98\n",
       "31555     87\n",
       "        ... \n",
       "59650      1\n",
       "59656      1\n",
       "60057      1\n",
       "60172      1\n",
       "2B353      1\n",
       "Name: Geo_Code, Length: 1307, dtype: int64"
      ]
     },
     "execution_count": 263,
     "metadata": {},
     "output_type": "execute_result"
    }
   ],
   "source": [
    "data_train[\"Geo_Code\"].value_counts()"
   ]
  },
  {
   "cell_type": "code",
   "execution_count": 246,
   "metadata": {},
   "outputs": [
    {
     "data": {
      "text/plain": [
       "Index(['Customer Id', 'YearOfObservation', 'Insured_Period', 'Residential',\n",
       "       'Building_Painted', 'Building_Fenced', 'Garden', 'Settlement',\n",
       "       'Building Dimension', 'Building_Type', 'Date_of_Occupancy',\n",
       "       'NumberOfWindows', 'Geo_Code', 'Claim'],\n",
       "      dtype='object')"
      ]
     },
     "execution_count": 246,
     "metadata": {},
     "output_type": "execute_result"
    }
   ],
   "source": [
    "data_train.columns"
   ]
  },
  {
   "cell_type": "code",
   "execution_count": 264,
   "metadata": {},
   "outputs": [
    {
     "data": {
      "image/png": "[encoded data removed]",
      "text/plain": [
       "<Figure size 640x480 with 1 Axes>"
      ]
     },
     "metadata": {},
     "output_type": "display_data"
    },
    {
     "data": {
      "image/png": "[encoded data removed]",
      "text/plain": [
       "<Figure size 640x480 with 1 Axes>"
      ]
     },
     "metadata": {},
     "output_type": "display_data"
    },
    {
     "data": {
      "image/png": "[encoded data removed]",
      "text/plain": [
       "<Figure size 640x480 with 1 Axes>"
      ]
     },
     "metadata": {},
     "output_type": "display_data"
    },
    {
     "data": {
      "image/png": "[encoded data removed]",
      "text/plain": [
       "<Figure size 640x480 with 1 Axes>"
      ]
     },
     "metadata": {},
     "output_type": "display_data"
    },
    {
     "data": {
      "image/png": "[encoded data removed]",
      "text/plain": [
       "<Figure size 640x480 with 1 Axes>"
      ]
     },
     "metadata": {},
     "output_type": "display_data"
    },
    {
     "data": {
      "image/png": "[encoded data removed]",
      "text/plain": [
       "<Figure size 640x480 with 1 Axes>"
      ]
     },
     "metadata": {},
     "output_type": "display_data"
    },
    {
     "data": {
      "image/png": "[encoded data removed]",
      "text/plain": [
       "<Figure size 640x480 with 1 Axes>"
      ]
     },
     "metadata": {},
     "output_type": "display_data"
    },
    {
     "data": {
      "image/png": "[encoded data removed]",
      "text/plain": [
       "<Figure size 640x480 with 1 Axes>"
      ]
     },
     "metadata": {},
     "output_type": "display_data"
    },
    {
     "data": {
      "image/png": "[encoded data removed]",
      "text/plain": [
       "<Figure size 640x480 with 1 Axes>"
      ]
     },
     "metadata": {},
     "output_type": "display_data"
    },
    {
     "data": {
      "image/png": "[encoded data removed]",
      "text/plain": [
       "<Figure size 640x480 with 1 Axes>"
      ]
     },
     "metadata": {},
     "output_type": "display_data"
    },
    {
     "data": {
      "image/png": "[encoded data removed]",
      "text/plain": [
       "<Figure size 640x480 with 1 Axes>"
      ]
     },
     "metadata": {},
     "output_type": "display_data"
    },
    {
     "data": {
      "image/png": "[encoded data removed]",
      "text/plain": [
       "<Figure size 640x480 with 1 Axes>"
      ]
     },
     "metadata": {},
     "output_type": "display_data"
    }
   ],
   "source": [
    "%matplotlib inline\n",
    "\n",
    "for column in data_train.select_dtypes(exclude=['object']):\n",
    "    fig, ax = plt.subplots()\n",
    "    \n",
    "    values_1 = data_train.loc[data_train['Claim'] == 1, column]\n",
    "    values_0 = data_train.loc[data_train['Claim'] == 0, column]\n",
    "    \n",
    "    ax.hist(values_1, bins=50, alpha=0.5, color='red', label='Claim = 1')\n",
    "    ax.hist(values_0, bins=50, alpha=0.5, color='blue', label='Claim = 0')\n",
    "    \n",
    "    ax.set_title(f'Histogram of {column}')\n",
    "    ax.set_xlabel(column)\n",
    "    ax.set_ylabel('Frequency')\n",
    "    \n",
    "    ax.legend()\n",
    "    \n",
    "    plt.show()"
   ]
  },
  {
   "attachments": {},
   "cell_type": "markdown",
   "metadata": {},
   "source": [
    "# Feature selection"
   ]
  },
  {
   "cell_type": "code",
   "execution_count": 265,
   "metadata": {},
   "outputs": [
    {
     "data": {
      "text/plain": [
       "Index(['Customer Id', 'YearOfObservation', 'Insured_Period', 'Residential',\n",
       "       'Building_Painted', 'Building_Fenced', 'Garden', 'Settlement',\n",
       "       'Building Dimension', 'Building_Type', 'Date_of_Occupancy',\n",
       "       'NumberOfWindows', 'Geo_Code', 'Claim'],\n",
       "      dtype='object')"
      ]
     },
     "execution_count": 265,
     "metadata": {},
     "output_type": "execute_result"
    }
   ],
   "source": [
    "data_train.columns"
   ]
  },
  {
   "cell_type": "code",
   "execution_count": 266,
   "metadata": {},
   "outputs": [],
   "source": [
    "data_train.dropna(inplace=True)"
   ]
  },
  {
   "cell_type": "code",
   "execution_count": 267,
   "metadata": {},
   "outputs": [
    {
     "name": "stdout",
     "output_type": "stream",
     "text": [
      "<class 'pandas.core.frame.DataFrame'>\n",
      "Int64Index: 6549 entries, 0 to 7057\n",
      "Data columns (total 14 columns):\n",
      " #   Column              Non-Null Count  Dtype  \n",
      "---  ------              --------------  -----  \n",
      " 0   Customer Id         6549 non-null   object \n",
      " 1   YearOfObservation   6549 non-null   int64  \n",
      " 2   Insured_Period      6549 non-null   float64\n",
      " 3   Residential         6549 non-null   int64  \n",
      " 4   Building_Painted    6549 non-null   int64  \n",
      " 5   Building_Fenced     6549 non-null   int64  \n",
      " 6   Garden              6549 non-null   float64\n",
      " 7   Settlement          6549 non-null   int64  \n",
      " 8   Building Dimension  6549 non-null   float64\n",
      " 9   Building_Type       6549 non-null   int64  \n",
      " 10  Date_of_Occupancy   6549 non-null   float64\n",
      " 11  NumberOfWindows     6549 non-null   int64  \n",
      " 12  Geo_Code            6549 non-null   object \n",
      " 13  Claim               6549 non-null   int64  \n",
      "dtypes: float64(4), int64(8), object(2)\n",
      "memory usage: 767.5+ KB\n"
     ]
    }
   ],
   "source": [
    "data_train.info()"
   ]
  },
  {
   "cell_type": "code",
   "execution_count": 268,
   "metadata": {},
   "outputs": [],
   "source": [
    "data_train.drop(\"Geo_Code\", axis=1, inplace=True)"
   ]
  },
  {
   "cell_type": "code",
   "execution_count": 272,
   "metadata": {},
   "outputs": [
    {
     "name": "stdout",
     "output_type": "stream",
     "text": [
      "Building Dimension: 0.06338955609524377\n",
      "NumberOfWindows: 0.019705126581052612\n",
      "Building_Type: 0.0075153125746205696\n",
      "Insured_Period: 0.0062805307695765755\n",
      "Date_of_Occupancy: 0.00145266512750708\n",
      "YearOfObservation: 0.0\n",
      "Residential: 0.0\n",
      "Building_Painted: 0.0\n",
      "Building_Fenced: 0.0\n",
      "Garden: 0.0\n",
      "Settlement: 0.0\n"
     ]
    }
   ],
   "source": [
    "from sklearn.feature_selection import mutual_info_classif\n",
    "\n",
    "feature_cols = [col for col in data_train.columns if ( col != 'Claim' and col != 'Customer Id' )]\n",
    "\n",
    "mutual_info = mutual_info_classif(data_train[feature_cols], data_train['Claim'])\n",
    "\n",
    "mi_tuples = list(zip(feature_cols, mutual_info))\n",
    "\n",
    "mi_tuples_sorted = sorted(mi_tuples, key=lambda x: x[1], reverse=True)\n",
    "\n",
    "for col, mi_score in mi_tuples_sorted:\n",
    "    print(f\"{col}: {mi_score}\")"
   ]
  },
  {
   "cell_type": "code",
   "execution_count": 273,
   "metadata": {},
   "outputs": [],
   "source": [
    "X = data_train.drop([\"Claim\"], axis=1)\n",
    "y = data_train[\"Claim\"]"
   ]
  },
  {
   "cell_type": "code",
   "execution_count": 274,
   "metadata": {},
   "outputs": [
    {
     "data": {
      "text/html": [
       "<div>\n",
       "<style scoped>\n",
       "    .dataframe tbody tr th:only-of-type {\n",
       "        vertical-align: middle;\n",
       "    }\n",
       "\n",
       "    .dataframe tbody tr th {\n",
       "        vertical-align: top;\n",
       "    }\n",
       "\n",
       "    .dataframe thead th {\n",
       "        text-align: right;\n",
       "    }\n",
       "</style>\n",
       "<table border=\"1\" class=\"dataframe\">\n",
       "  <thead>\n",
       "    <tr style=\"text-align: right;\">\n",
       "      <th></th>\n",
       "      <th>YearOfObservation</th>\n",
       "      <th>Insured_Period</th>\n",
       "      <th>Residential</th>\n",
       "      <th>Building_Painted</th>\n",
       "      <th>Building_Fenced</th>\n",
       "      <th>Garden</th>\n",
       "      <th>Settlement</th>\n",
       "      <th>Building Dimension</th>\n",
       "      <th>Building_Type</th>\n",
       "      <th>Date_of_Occupancy</th>\n",
       "      <th>NumberOfWindows</th>\n",
       "    </tr>\n",
       "  </thead>\n",
       "  <tbody>\n",
       "    <tr>\n",
       "      <th>count</th>\n",
       "      <td>6549.000000</td>\n",
       "      <td>6549.000000</td>\n",
       "      <td>6549.000000</td>\n",
       "      <td>6549.000000</td>\n",
       "      <td>6549.000000</td>\n",
       "      <td>6549.000000</td>\n",
       "      <td>6549.000000</td>\n",
       "      <td>6549.000000</td>\n",
       "      <td>6549.000000</td>\n",
       "      <td>6549.000000</td>\n",
       "      <td>6549.000000</td>\n",
       "    </tr>\n",
       "    <tr>\n",
       "      <th>mean</th>\n",
       "      <td>2013.694152</td>\n",
       "      <td>0.922596</td>\n",
       "      <td>0.294854</td>\n",
       "      <td>0.248435</td>\n",
       "      <td>0.549855</td>\n",
       "      <td>0.449992</td>\n",
       "      <td>0.550008</td>\n",
       "      <td>1931.996793</td>\n",
       "      <td>2.171477</td>\n",
       "      <td>1964.447549</td>\n",
       "      <td>2.387845</td>\n",
       "    </tr>\n",
       "    <tr>\n",
       "      <th>std</th>\n",
       "      <td>1.388186</td>\n",
       "      <td>0.216740</td>\n",
       "      <td>0.456012</td>\n",
       "      <td>0.432138</td>\n",
       "      <td>0.497546</td>\n",
       "      <td>0.497531</td>\n",
       "      <td>0.497531</td>\n",
       "      <td>2309.837827</td>\n",
       "      <td>0.935654</td>\n",
       "      <td>35.709707</td>\n",
       "      <td>2.539092</td>\n",
       "    </tr>\n",
       "    <tr>\n",
       "      <th>min</th>\n",
       "      <td>2012.000000</td>\n",
       "      <td>0.000000</td>\n",
       "      <td>0.000000</td>\n",
       "      <td>0.000000</td>\n",
       "      <td>0.000000</td>\n",
       "      <td>0.000000</td>\n",
       "      <td>0.000000</td>\n",
       "      <td>1.000000</td>\n",
       "      <td>1.000000</td>\n",
       "      <td>1545.000000</td>\n",
       "      <td>0.000000</td>\n",
       "    </tr>\n",
       "    <tr>\n",
       "      <th>25%</th>\n",
       "      <td>2012.000000</td>\n",
       "      <td>1.000000</td>\n",
       "      <td>0.000000</td>\n",
       "      <td>0.000000</td>\n",
       "      <td>0.000000</td>\n",
       "      <td>0.000000</td>\n",
       "      <td>0.000000</td>\n",
       "      <td>546.000000</td>\n",
       "      <td>2.000000</td>\n",
       "      <td>1960.000000</td>\n",
       "      <td>0.000000</td>\n",
       "    </tr>\n",
       "    <tr>\n",
       "      <th>50%</th>\n",
       "      <td>2013.000000</td>\n",
       "      <td>1.000000</td>\n",
       "      <td>0.000000</td>\n",
       "      <td>0.000000</td>\n",
       "      <td>1.000000</td>\n",
       "      <td>0.000000</td>\n",
       "      <td>1.000000</td>\n",
       "      <td>1114.000000</td>\n",
       "      <td>2.000000</td>\n",
       "      <td>1970.000000</td>\n",
       "      <td>2.000000</td>\n",
       "    </tr>\n",
       "    <tr>\n",
       "      <th>75%</th>\n",
       "      <td>2015.000000</td>\n",
       "      <td>1.000000</td>\n",
       "      <td>1.000000</td>\n",
       "      <td>0.000000</td>\n",
       "      <td>1.000000</td>\n",
       "      <td>1.000000</td>\n",
       "      <td>1.000000</td>\n",
       "      <td>2396.000000</td>\n",
       "      <td>3.000000</td>\n",
       "      <td>1980.000000</td>\n",
       "      <td>4.000000</td>\n",
       "    </tr>\n",
       "    <tr>\n",
       "      <th>max</th>\n",
       "      <td>2016.000000</td>\n",
       "      <td>1.000000</td>\n",
       "      <td>1.000000</td>\n",
       "      <td>1.000000</td>\n",
       "      <td>1.000000</td>\n",
       "      <td>1.000000</td>\n",
       "      <td>1.000000</td>\n",
       "      <td>20940.000000</td>\n",
       "      <td>4.000000</td>\n",
       "      <td>2016.000000</td>\n",
       "      <td>10.000000</td>\n",
       "    </tr>\n",
       "  </tbody>\n",
       "</table>\n",
       "</div>"
      ],
      "text/plain": [
       "       YearOfObservation  Insured_Period  Residential  Building_Painted  \\\n",
       "count        6549.000000     6549.000000  6549.000000       6549.000000   \n",
       "mean         2013.694152        0.922596     0.294854          0.248435   \n",
       "std             1.388186        0.216740     0.456012          0.432138   \n",
       "min          2012.000000        0.000000     0.000000          0.000000   \n",
       "25%          2012.000000        1.000000     0.000000          0.000000   \n",
       "50%          2013.000000        1.000000     0.000000          0.000000   \n",
       "75%          2015.000000        1.000000     1.000000          0.000000   \n",
       "max          2016.000000        1.000000     1.000000          1.000000   \n",
       "\n",
       "       Building_Fenced       Garden   Settlement  Building Dimension  \\\n",
       "count      6549.000000  6549.000000  6549.000000         6549.000000   \n",
       "mean          0.549855     0.449992     0.550008         1931.996793   \n",
       "std           0.497546     0.497531     0.497531         2309.837827   \n",
       "min           0.000000     0.000000     0.000000            1.000000   \n",
       "25%           0.000000     0.000000     0.000000          546.000000   \n",
       "50%           1.000000     0.000000     1.000000         1114.000000   \n",
       "75%           1.000000     1.000000     1.000000         2396.000000   \n",
       "max           1.000000     1.000000     1.000000        20940.000000   \n",
       "\n",
       "       Building_Type  Date_of_Occupancy  NumberOfWindows  \n",
       "count    6549.000000        6549.000000      6549.000000  \n",
       "mean        2.171477        1964.447549         2.387845  \n",
       "std         0.935654          35.709707         2.539092  \n",
       "min         1.000000        1545.000000         0.000000  \n",
       "25%         2.000000        1960.000000         0.000000  \n",
       "50%         2.000000        1970.000000         2.000000  \n",
       "75%         3.000000        1980.000000         4.000000  \n",
       "max         4.000000        2016.000000        10.000000  "
      ]
     },
     "execution_count": 274,
     "metadata": {},
     "output_type": "execute_result"
    }
   ],
   "source": [
    "X.describe()"
   ]
  },
  {
   "cell_type": "code",
   "execution_count": 275,
   "metadata": {},
   "outputs": [],
   "source": [
    "X_train = X.copy()"
   ]
  },
  {
   "cell_type": "code",
   "execution_count": 276,
   "metadata": {},
   "outputs": [],
   "source": [
    "X_train[\"Date_of_Occupancy\"] = (X[\"Date_of_Occupancy\"] - X[\"Date_of_Occupancy\"].min()) / (X[\"Date_of_Occupancy\"].max() - X[\"Date_of_Occupancy\"].min())\n",
    "\n",
    "X_train[\"NumberOfWindows\"] = X[\"NumberOfWindows\"] / 10\n",
    "\n",
    "X_train[\"Building Dimension\"] = ( X[\"Building Dimension\"] - X[\"Building Dimension\"].mean()) / (X[\"Building Dimension\"].std() )\n",
    "\n",
    "X_train[\"YearOfObservation\"] = ( X[\"YearOfObservation\"] - X[\"YearOfObservation\"].min()) / (X[\"YearOfObservation\"].max() - X[\"YearOfObservation\"].min())"
   ]
  },
  {
   "cell_type": "code",
   "execution_count": 277,
   "metadata": {},
   "outputs": [
    {
     "data": {
      "text/html": [
       "<div>\n",
       "<style scoped>\n",
       "    .dataframe tbody tr th:only-of-type {\n",
       "        vertical-align: middle;\n",
       "    }\n",
       "\n",
       "    .dataframe tbody tr th {\n",
       "        vertical-align: top;\n",
       "    }\n",
       "\n",
       "    .dataframe thead th {\n",
       "        text-align: right;\n",
       "    }\n",
       "</style>\n",
       "<table border=\"1\" class=\"dataframe\">\n",
       "  <thead>\n",
       "    <tr style=\"text-align: right;\">\n",
       "      <th></th>\n",
       "      <th>YearOfObservation</th>\n",
       "      <th>Insured_Period</th>\n",
       "      <th>Residential</th>\n",
       "      <th>Building_Painted</th>\n",
       "      <th>Building_Fenced</th>\n",
       "      <th>Garden</th>\n",
       "      <th>Settlement</th>\n",
       "      <th>Building Dimension</th>\n",
       "      <th>Building_Type</th>\n",
       "      <th>Date_of_Occupancy</th>\n",
       "      <th>NumberOfWindows</th>\n",
       "    </tr>\n",
       "  </thead>\n",
       "  <tbody>\n",
       "    <tr>\n",
       "      <th>count</th>\n",
       "      <td>6549.000000</td>\n",
       "      <td>6549.000000</td>\n",
       "      <td>6549.000000</td>\n",
       "      <td>6549.000000</td>\n",
       "      <td>6549.000000</td>\n",
       "      <td>6549.000000</td>\n",
       "      <td>6549.000000</td>\n",
       "      <td>6.549000e+03</td>\n",
       "      <td>6549.000000</td>\n",
       "      <td>6549.000000</td>\n",
       "      <td>6549.000000</td>\n",
       "    </tr>\n",
       "    <tr>\n",
       "      <th>mean</th>\n",
       "      <td>0.423538</td>\n",
       "      <td>0.922596</td>\n",
       "      <td>0.294854</td>\n",
       "      <td>0.248435</td>\n",
       "      <td>0.549855</td>\n",
       "      <td>0.449992</td>\n",
       "      <td>0.550008</td>\n",
       "      <td>-5.424819e-18</td>\n",
       "      <td>2.171477</td>\n",
       "      <td>0.890547</td>\n",
       "      <td>0.238785</td>\n",
       "    </tr>\n",
       "    <tr>\n",
       "      <th>std</th>\n",
       "      <td>0.347046</td>\n",
       "      <td>0.216740</td>\n",
       "      <td>0.456012</td>\n",
       "      <td>0.432138</td>\n",
       "      <td>0.497546</td>\n",
       "      <td>0.497531</td>\n",
       "      <td>0.497531</td>\n",
       "      <td>1.000000e+00</td>\n",
       "      <td>0.935654</td>\n",
       "      <td>0.075817</td>\n",
       "      <td>0.253909</td>\n",
       "    </tr>\n",
       "    <tr>\n",
       "      <th>min</th>\n",
       "      <td>0.000000</td>\n",
       "      <td>0.000000</td>\n",
       "      <td>0.000000</td>\n",
       "      <td>0.000000</td>\n",
       "      <td>0.000000</td>\n",
       "      <td>0.000000</td>\n",
       "      <td>0.000000</td>\n",
       "      <td>-8.359880e-01</td>\n",
       "      <td>1.000000</td>\n",
       "      <td>0.000000</td>\n",
       "      <td>0.000000</td>\n",
       "    </tr>\n",
       "    <tr>\n",
       "      <th>25%</th>\n",
       "      <td>0.000000</td>\n",
       "      <td>1.000000</td>\n",
       "      <td>0.000000</td>\n",
       "      <td>0.000000</td>\n",
       "      <td>0.000000</td>\n",
       "      <td>0.000000</td>\n",
       "      <td>0.000000</td>\n",
       "      <td>-6.000407e-01</td>\n",
       "      <td>2.000000</td>\n",
       "      <td>0.881104</td>\n",
       "      <td>0.000000</td>\n",
       "    </tr>\n",
       "    <tr>\n",
       "      <th>50%</th>\n",
       "      <td>0.250000</td>\n",
       "      <td>1.000000</td>\n",
       "      <td>0.000000</td>\n",
       "      <td>0.000000</td>\n",
       "      <td>1.000000</td>\n",
       "      <td>0.000000</td>\n",
       "      <td>1.000000</td>\n",
       "      <td>-3.541360e-01</td>\n",
       "      <td>2.000000</td>\n",
       "      <td>0.902335</td>\n",
       "      <td>0.200000</td>\n",
       "    </tr>\n",
       "    <tr>\n",
       "      <th>75%</th>\n",
       "      <td>0.750000</td>\n",
       "      <td>1.000000</td>\n",
       "      <td>1.000000</td>\n",
       "      <td>0.000000</td>\n",
       "      <td>1.000000</td>\n",
       "      <td>1.000000</td>\n",
       "      <td>1.000000</td>\n",
       "      <td>2.008813e-01</td>\n",
       "      <td>3.000000</td>\n",
       "      <td>0.923567</td>\n",
       "      <td>0.400000</td>\n",
       "    </tr>\n",
       "    <tr>\n",
       "      <th>max</th>\n",
       "      <td>1.000000</td>\n",
       "      <td>1.000000</td>\n",
       "      <td>1.000000</td>\n",
       "      <td>1.000000</td>\n",
       "      <td>1.000000</td>\n",
       "      <td>1.000000</td>\n",
       "      <td>1.000000</td>\n",
       "      <td>8.229151e+00</td>\n",
       "      <td>4.000000</td>\n",
       "      <td>1.000000</td>\n",
       "      <td>1.000000</td>\n",
       "    </tr>\n",
       "  </tbody>\n",
       "</table>\n",
       "</div>"
      ],
      "text/plain": [
       "       YearOfObservation  Insured_Period  Residential  Building_Painted  \\\n",
       "count        6549.000000     6549.000000  6549.000000       6549.000000   \n",
       "mean            0.423538        0.922596     0.294854          0.248435   \n",
       "std             0.347046        0.216740     0.456012          0.432138   \n",
       "min             0.000000        0.000000     0.000000          0.000000   \n",
       "25%             0.000000        1.000000     0.000000          0.000000   \n",
       "50%             0.250000        1.000000     0.000000          0.000000   \n",
       "75%             0.750000        1.000000     1.000000          0.000000   \n",
       "max             1.000000        1.000000     1.000000          1.000000   \n",
       "\n",
       "       Building_Fenced       Garden   Settlement  Building Dimension  \\\n",
       "count      6549.000000  6549.000000  6549.000000        6.549000e+03   \n",
       "mean          0.549855     0.449992     0.550008       -5.424819e-18   \n",
       "std           0.497546     0.497531     0.497531        1.000000e+00   \n",
       "min           0.000000     0.000000     0.000000       -8.359880e-01   \n",
       "25%           0.000000     0.000000     0.000000       -6.000407e-01   \n",
       "50%           1.000000     0.000000     1.000000       -3.541360e-01   \n",
       "75%           1.000000     1.000000     1.000000        2.008813e-01   \n",
       "max           1.000000     1.000000     1.000000        8.229151e+00   \n",
       "\n",
       "       Building_Type  Date_of_Occupancy  NumberOfWindows  \n",
       "count    6549.000000        6549.000000      6549.000000  \n",
       "mean        2.171477           0.890547         0.238785  \n",
       "std         0.935654           0.075817         0.253909  \n",
       "min         1.000000           0.000000         0.000000  \n",
       "25%         2.000000           0.881104         0.000000  \n",
       "50%         2.000000           0.902335         0.200000  \n",
       "75%         3.000000           0.923567         0.400000  \n",
       "max         4.000000           1.000000         1.000000  "
      ]
     },
     "execution_count": 277,
     "metadata": {},
     "output_type": "execute_result"
    }
   ],
   "source": [
    "X_train.describe()"
   ]
  },
  {
   "cell_type": "code",
   "execution_count": 278,
   "metadata": {},
   "outputs": [
    {
     "data": {
      "text/plain": [
       "(6549, 12)"
      ]
     },
     "execution_count": 278,
     "metadata": {},
     "output_type": "execute_result"
    }
   ],
   "source": [
    "X.shape"
   ]
  },
  {
   "cell_type": "code",
   "execution_count": 279,
   "metadata": {},
   "outputs": [
    {
     "name": "stdout",
     "output_type": "stream",
     "text": [
      "<class 'pandas.core.frame.DataFrame'>\n",
      "Int64Index: 6549 entries, 0 to 7057\n",
      "Data columns (total 12 columns):\n",
      " #   Column              Non-Null Count  Dtype  \n",
      "---  ------              --------------  -----  \n",
      " 0   Customer Id         6549 non-null   object \n",
      " 1   YearOfObservation   6549 non-null   float64\n",
      " 2   Insured_Period      6549 non-null   float64\n",
      " 3   Residential         6549 non-null   int64  \n",
      " 4   Building_Painted    6549 non-null   int64  \n",
      " 5   Building_Fenced     6549 non-null   int64  \n",
      " 6   Garden              6549 non-null   float64\n",
      " 7   Settlement          6549 non-null   int64  \n",
      " 8   Building Dimension  6549 non-null   float64\n",
      " 9   Building_Type       6549 non-null   int64  \n",
      " 10  Date_of_Occupancy   6549 non-null   float64\n",
      " 11  NumberOfWindows     6549 non-null   float64\n",
      "dtypes: float64(6), int64(5), object(1)\n",
      "memory usage: 665.1+ KB\n"
     ]
    }
   ],
   "source": [
    "X_train.info()"
   ]
  },
  {
   "cell_type": "code",
   "execution_count": 280,
   "metadata": {},
   "outputs": [],
   "source": [
    "X_train = X.drop(\"Customer Id\", axis=1)"
   ]
  },
  {
   "cell_type": "code",
   "execution_count": 281,
   "metadata": {},
   "outputs": [
    {
     "data": {
      "text/plain": [
       "(6549, 11)"
      ]
     },
     "execution_count": 281,
     "metadata": {},
     "output_type": "execute_result"
    }
   ],
   "source": [
    "X_train.shape"
   ]
  },
  {
   "attachments": {},
   "cell_type": "markdown",
   "metadata": {},
   "source": [
    "# Model"
   ]
  },
  {
   "cell_type": "code",
   "execution_count": 282,
   "metadata": {},
   "outputs": [
    {
     "name": "stdout",
     "output_type": "stream",
     "text": [
      "Fitting 4 folds for each of 81 candidates, totalling 324 fits\n",
      "Best parameters:  {'gamma': 0.1, 'learning_rate': 0.03, 'max_depth': 5, 'n_estimators': 100}\n",
      "Best score: ROC 0.7105443077300388\n"
     ]
    }
   ],
   "source": [
    "import xgboost as xgb\n",
    "from sklearn.model_selection import GridSearchCV, StratifiedKFold\n",
    "from sklearn.metrics import accuracy_score, roc_auc_score, recall_score, precision_score, f1_score\n",
    "\n",
    "xgb_model = xgb.XGBClassifier(objective='binary:logistic', n_jobs=-1, seed=42)\n",
    "\n",
    "param_grid = {\n",
    "    'max_depth': [5, 10, 20],\n",
    "    'learning_rate': [0.03, 0.05, 0.08],\n",
    "    'n_estimators': [50, 100, 500],\n",
    "    'gamma': [0, 0.1, 0.01],\n",
    "}\n",
    "\n",
    "cv = StratifiedKFold(n_splits=4, shuffle=True, random_state=42)\n",
    "\n",
    "grid_search = GridSearchCV(\n",
    "    xgb_model, \n",
    "    param_grid, \n",
    "    cv=cv, \n",
    "    scoring='roc_auc', \n",
    "    n_jobs=-1, \n",
    "    verbose=1\n",
    ")\n",
    "\n",
    "grid_search.fit(X_train, y)\n",
    "\n",
    "\n",
    "print(\"Best parameters: \", grid_search.best_params_)\n",
    "print(\"Best score: ROC\", grid_search.best_score_)\n"
   ]
  },
  {
   "cell_type": "code",
   "execution_count": 284,
   "metadata": {},
   "outputs": [],
   "source": [
    "model = grid_search.best_estimator_"
   ]
  },
  {
   "cell_type": "code",
   "execution_count": 289,
   "metadata": {},
   "outputs": [
    {
     "name": "stdout",
     "output_type": "stream",
     "text": [
      "Threshold:  0.1\n",
      "ROC:  0.7726458291857455\n",
      "Accuracy:  0.29928233318063824\n",
      "Recall:  0.9986893840104849\n",
      "Precision:  0.249386352479136\n",
      "F1:  0.39910959800968965\n",
      "\n",
      "\n",
      "Threshold:  0.15\n",
      "ROC:  0.7726458291857455\n",
      "Accuracy:  0.48221102458390597\n",
      "Recall:  0.927916120576671\n",
      "Precision:  0.3014690227804982\n",
      "F1:  0.4550859713964326\n",
      "\n",
      "\n",
      "Threshold:  0.2\n",
      "ROC:  0.7726458291857455\n",
      "Accuracy:  0.6300198503588335\n",
      "Recall:  0.7889908256880734\n",
      "Precision:  0.3642965204236006\n",
      "F1:  0.49844752639205137\n",
      "\n",
      "\n",
      "Threshold:  0.25\n",
      "ROC:  0.7726458291857455\n",
      "Accuracy:  0.7236219270117575\n",
      "Recall:  0.6317169069462647\n",
      "Precision:  0.4358047016274864\n",
      "F1:  0.5157838416265382\n",
      "\n",
      "\n",
      "Threshold:  0.3\n",
      "ROC:  0.7726458291857455\n",
      "Accuracy:  0.7585890975721484\n",
      "Recall:  0.5380078636959371\n",
      "Precision:  0.48379493223335296\n",
      "F1:  0.509463233012721\n",
      "\n",
      "\n",
      "Threshold:  0.35\n",
      "ROC:  0.7726458291857455\n",
      "Accuracy:  0.7807298824247977\n",
      "Recall:  0.4672346002621232\n",
      "Precision:  0.5336826347305389\n",
      "F1:  0.49825296995108315\n",
      "\n",
      "\n",
      "Threshold:  0.4\n",
      "ROC:  0.7726458291857455\n",
      "Accuracy:  0.7938616582684379\n",
      "Recall:  0.4017038007863696\n",
      "Precision:  0.5838095238095238\n",
      "F1:  0.47593167701863354\n",
      "\n",
      "\n",
      "Threshold:  0.45\n",
      "ROC:  0.7726458291857455\n",
      "Accuracy:  0.7978317300351199\n",
      "Recall:  0.31847968545216254\n",
      "Precision:  0.6311688311688312\n",
      "F1:  0.42334494773519166\n",
      "\n",
      "\n",
      "Threshold:  0.5\n",
      "ROC:  0.7726458291857455\n",
      "Accuracy:  0.7993586807146129\n",
      "Recall:  0.23263433813892528\n",
      "Precision:  0.7128514056224899\n",
      "F1:  0.35079051383399207\n",
      "\n",
      "\n"
     ]
    }
   ],
   "source": [
    "probas = model.predict_proba(X_train)\n",
    "\n",
    "for threshold in [0.1, 0.15, 0.2, 0.25, 0.3, 0.35, 0.4, 0.45, 0.5]:\n",
    "    \n",
    "    y_pred = (probas[:, 1] >= threshold).astype(int)\n",
    "\n",
    "    print(\"Threshold: \", threshold)\n",
    "\n",
    "    print(\"ROC: \", roc_auc_score(y, probas[:, 1]))\n",
    "\n",
    "    print(\"Accuracy: \", accuracy_score(y, y_pred))\n",
    "    print(\"Recall: \", recall_score(y, y_pred))\n",
    "    print(\"Precision: \", precision_score(y, y_pred))\n",
    "    print(\"F1: \", f1_score(y, y_pred))\n",
    "\n",
    "    print(\"\\n\")"
   ]
  },
  {
   "cell_type": "code",
   "execution_count": 315,
   "metadata": {},
   "outputs": [
    {
     "name": "stdout",
     "output_type": "stream",
     "text": [
      "Best parameters:  {'max_depth': 5, 'min_samples_leaf': 2, 'min_samples_split': 2, 'n_estimators': 100}\n",
      "Best score: ROC 0.7149771577498871\n",
      "Accuracy:  0.7883646358222629\n",
      "Recall:  0.1363040629095675\n",
      "Precision:  0.7536231884057971\n",
      "F1:  0.23085460599334073\n",
      "ROC AUC:  0.5613831682256378\n"
     ]
    }
   ],
   "source": [
    "from sklearn.ensemble import RandomForestClassifier\n",
    "from sklearn.model_selection import GridSearchCV, StratifiedKFold\n",
    "from sklearn.metrics import accuracy_score, roc_auc_score, recall_score, precision_score, f1_score\n",
    "\n",
    "\n",
    "# Instantiate a RandomForestClassifier\n",
    "rf_model = RandomForestClassifier(random_state=42)\n",
    "\n",
    "# Define the hyperparameters to search over\n",
    "param_grid = {\n",
    "    'n_estimators': [50, 100, 200],\n",
    "    'max_depth': [None, 5, 10],\n",
    "    'min_samples_split': [2, 5, 10],\n",
    "    'min_samples_leaf': [1, 2, 4]\n",
    "}\n",
    "\n",
    "# Define the cross-validation strategy\n",
    "cv = StratifiedKFold(n_splits=4, shuffle=True, random_state=42)\n",
    "\n",
    "# Define the grid search object\n",
    "grid_search = GridSearchCV(\n",
    "    rf_model, \n",
    "    param_grid, \n",
    "    cv=cv, \n",
    "    scoring='roc_auc', \n",
    "    n_jobs=-1\n",
    ")\n",
    "\n",
    "# Fit the grid search object to the training data\n",
    "grid_search.fit(X_train, y)\n",
    "\n",
    "# Extract the best estimator and print the best parameters and score\n",
    "best_model = grid_search.best_estimator_\n",
    "print(\"Best parameters: \", grid_search.best_params_)\n",
    "print(\"Best score: ROC\", grid_search.best_score_)"
   ]
  },
  {
   "cell_type": "code",
   "execution_count": 316,
   "metadata": {},
   "outputs": [
    {
     "name": "stdout",
     "output_type": "stream",
     "text": [
      "Threshold:  0.1\n",
      "ROC:  0.7442052273826114\n",
      "Accuracy:  0.2623301267369064\n",
      "Recall:  0.9993446920052425\n",
      "Precision:  0.23996852871754523\n",
      "F1:  0.38700672503489403\n",
      "\n",
      "\n",
      "Threshold:  0.15\n",
      "ROC:  0.7442052273826114\n",
      "Accuracy:  0.4310581768208887\n",
      "Recall:  0.9233289646133683\n",
      "Precision:  0.280789159027501\n",
      "F1:  0.4306234718826406\n",
      "\n",
      "\n",
      "Threshold:  0.2\n",
      "ROC:  0.7442052273826114\n",
      "Accuracy:  0.653840280958925\n",
      "Recall:  0.7083879423328965\n",
      "Precision:  0.3723734068205305\n",
      "F1:  0.48814630842176565\n",
      "\n",
      "\n",
      "Threshold:  0.25\n",
      "ROC:  0.7442052273826114\n",
      "Accuracy:  0.7390441288746373\n",
      "Recall:  0.5425950196592398\n",
      "Precision:  0.45024469820554647\n",
      "F1:  0.4921248142644874\n",
      "\n",
      "\n",
      "Threshold:  0.3\n",
      "ROC:  0.7442052273826114\n",
      "Accuracy:  0.7602687433195908\n",
      "Recall:  0.46854521625163825\n",
      "Precision:  0.48507462686567165\n",
      "F1:  0.4766666666666667\n",
      "\n",
      "\n",
      "Threshold:  0.35\n",
      "ROC:  0.7442052273826114\n",
      "Accuracy:  0.7749274698427241\n",
      "Recall:  0.41546526867627787\n",
      "Precision:  0.5213815789473685\n",
      "F1:  0.46243617797228304\n",
      "\n",
      "\n",
      "Threshold:  0.4\n",
      "ROC:  0.7442052273826114\n",
      "Accuracy:  0.7915712322491983\n",
      "Recall:  0.3420707732634338\n",
      "Precision:  0.5911664779161948\n",
      "F1:  0.43337484433374845\n",
      "\n",
      "\n",
      "Threshold:  0.45\n",
      "ROC:  0.7442052273826114\n",
      "Accuracy:  0.7930981829286914\n",
      "Recall:  0.21559633027522937\n",
      "Precision:  0.675564681724846\n",
      "F1:  0.32687531048186785\n",
      "\n",
      "\n",
      "Threshold:  0.5\n",
      "ROC:  0.7442052273826114\n",
      "Accuracy:  0.7883646358222629\n",
      "Recall:  0.1363040629095675\n",
      "Precision:  0.7536231884057971\n",
      "F1:  0.23085460599334073\n",
      "\n",
      "\n"
     ]
    }
   ],
   "source": [
    "probas = best_model.predict_proba(X_train)\n",
    "\n",
    "for threshold in [0.1, 0.15, 0.2, 0.25, 0.3, 0.35, 0.4, 0.45, 0.5]:\n",
    "    \n",
    "    y_pred = (probas[:, 1] >= threshold).astype(int)\n",
    "\n",
    "    print(\"Threshold: \", threshold)\n",
    "\n",
    "    print(\"ROC: \", roc_auc_score(y, probas[:, 1]))\n",
    "\n",
    "    print(\"Accuracy: \", accuracy_score(y, y_pred))\n",
    "    print(\"Recall: \", recall_score(y, y_pred))\n",
    "    print(\"Precision: \", precision_score(y, y_pred))\n",
    "    print(\"F1: \", f1_score(y, y_pred))\n",
    "\n",
    "    print(\"\\n\")"
   ]
  },
  {
   "attachments": {},
   "cell_type": "markdown",
   "metadata": {},
   "source": [
    "# Test generation"
   ]
  },
  {
   "cell_type": "code",
   "execution_count": 317,
   "metadata": {},
   "outputs": [],
   "source": [
    "data_test = pd.read_csv('./data/insurance_test_data_version2.csv')"
   ]
  },
  {
   "cell_type": "code",
   "execution_count": 318,
   "metadata": {},
   "outputs": [],
   "source": [
    "X_test = data_test"
   ]
  },
  {
   "cell_type": "code",
   "execution_count": 319,
   "metadata": {},
   "outputs": [
    {
     "data": {
      "text/html": [
       "<div>\n",
       "<style scoped>\n",
       "    .dataframe tbody tr th:only-of-type {\n",
       "        vertical-align: middle;\n",
       "    }\n",
       "\n",
       "    .dataframe tbody tr th {\n",
       "        vertical-align: top;\n",
       "    }\n",
       "\n",
       "    .dataframe thead th {\n",
       "        text-align: right;\n",
       "    }\n",
       "</style>\n",
       "<table border=\"1\" class=\"dataframe\">\n",
       "  <thead>\n",
       "    <tr style=\"text-align: right;\">\n",
       "      <th></th>\n",
       "      <th>Customer Id</th>\n",
       "      <th>YearOfObservation</th>\n",
       "      <th>Insured_Period</th>\n",
       "      <th>Residential</th>\n",
       "      <th>Building_Painted</th>\n",
       "      <th>Building_Fenced</th>\n",
       "      <th>Garden</th>\n",
       "      <th>Settlement</th>\n",
       "      <th>Building Dimension</th>\n",
       "      <th>Building_Type</th>\n",
       "      <th>Date_of_Occupancy</th>\n",
       "      <th>NumberOfWindows</th>\n",
       "      <th>Geo_Code</th>\n",
       "    </tr>\n",
       "  </thead>\n",
       "  <tbody>\n",
       "    <tr>\n",
       "      <th>0</th>\n",
       "      <td>H0</td>\n",
       "      <td>2013.0</td>\n",
       "      <td>0.350685</td>\n",
       "      <td>0.0</td>\n",
       "      <td>V</td>\n",
       "      <td>V</td>\n",
       "      <td>V</td>\n",
       "      <td>U</td>\n",
       "      <td>384.0</td>\n",
       "      <td>2.0</td>\n",
       "      <td>1980.0</td>\n",
       "      <td>.</td>\n",
       "      <td>26362</td>\n",
       "    </tr>\n",
       "    <tr>\n",
       "      <th>1</th>\n",
       "      <td>H10000</td>\n",
       "      <td>2013.0</td>\n",
       "      <td>1.000000</td>\n",
       "      <td>0.0</td>\n",
       "      <td>V</td>\n",
       "      <td>V</td>\n",
       "      <td>V</td>\n",
       "      <td>U</td>\n",
       "      <td>580.0</td>\n",
       "      <td>2.0</td>\n",
       "      <td>1960.0</td>\n",
       "      <td>.</td>\n",
       "      <td>13205</td>\n",
       "    </tr>\n",
       "    <tr>\n",
       "      <th>2</th>\n",
       "      <td>H10001</td>\n",
       "      <td>2013.0</td>\n",
       "      <td>1.000000</td>\n",
       "      <td>0.0</td>\n",
       "      <td>V</td>\n",
       "      <td>N</td>\n",
       "      <td>O</td>\n",
       "      <td>R</td>\n",
       "      <td>852.0</td>\n",
       "      <td>1.0</td>\n",
       "      <td>1994.0</td>\n",
       "      <td>3</td>\n",
       "      <td>13004</td>\n",
       "    </tr>\n",
       "    <tr>\n",
       "      <th>3</th>\n",
       "      <td>H10002</td>\n",
       "      <td>2013.0</td>\n",
       "      <td>1.000000</td>\n",
       "      <td>0.0</td>\n",
       "      <td>V</td>\n",
       "      <td>N</td>\n",
       "      <td>O</td>\n",
       "      <td>R</td>\n",
       "      <td>380.0</td>\n",
       "      <td>2.0</td>\n",
       "      <td>1960.0</td>\n",
       "      <td>3</td>\n",
       "      <td>13208</td>\n",
       "    </tr>\n",
       "    <tr>\n",
       "      <th>4</th>\n",
       "      <td>H10003</td>\n",
       "      <td>2015.0</td>\n",
       "      <td>1.000000</td>\n",
       "      <td>0.0</td>\n",
       "      <td>V</td>\n",
       "      <td>N</td>\n",
       "      <td>O</td>\n",
       "      <td>R</td>\n",
       "      <td>380.0</td>\n",
       "      <td>2.0</td>\n",
       "      <td>1960.0</td>\n",
       "      <td>3</td>\n",
       "      <td>13208</td>\n",
       "    </tr>\n",
       "  </tbody>\n",
       "</table>\n",
       "</div>"
      ],
      "text/plain": [
       "  Customer Id  YearOfObservation  Insured_Period  Residential  \\\n",
       "0          H0             2013.0        0.350685          0.0   \n",
       "1      H10000             2013.0        1.000000          0.0   \n",
       "2      H10001             2013.0        1.000000          0.0   \n",
       "3      H10002             2013.0        1.000000          0.0   \n",
       "4      H10003             2015.0        1.000000          0.0   \n",
       "\n",
       "  Building_Painted Building_Fenced Garden Settlement  Building Dimension  \\\n",
       "0                V               V      V          U               384.0   \n",
       "1                V               V      V          U               580.0   \n",
       "2                V               N      O          R               852.0   \n",
       "3                V               N      O          R               380.0   \n",
       "4                V               N      O          R               380.0   \n",
       "\n",
       "   Building_Type  Date_of_Occupancy NumberOfWindows Geo_Code  \n",
       "0            2.0             1980.0               .    26362  \n",
       "1            2.0             1960.0               .    13205  \n",
       "2            1.0             1994.0               3    13004  \n",
       "3            2.0             1960.0               3    13208  \n",
       "4            2.0             1960.0               3    13208  "
      ]
     },
     "execution_count": 319,
     "metadata": {},
     "output_type": "execute_result"
    }
   ],
   "source": [
    "X_test.head()"
   ]
  },
  {
   "cell_type": "code",
   "execution_count": 320,
   "metadata": {},
   "outputs": [],
   "source": [
    "X_test[\"Building_Painted\"].replace({\"N\":1, \"V\":0}, inplace=True)\n",
    "\n",
    "X_test[\"Building_Fenced\"].replace({\"N\":1, \"V\":0}, inplace=True)\n",
    "\n",
    "X_test[\"Garden\"].replace({\"V\":1, \"O\":0}, inplace=True)\n",
    "\n",
    "X_test[\"Settlement\"].replace({\"R\":1, \"U\":0}, inplace=True)"
   ]
  },
  {
   "cell_type": "code",
   "execution_count": 321,
   "metadata": {},
   "outputs": [],
   "source": [
    "X_test.drop(\"Geo_Code\", axis=1, inplace=True)"
   ]
  },
  {
   "cell_type": "code",
   "execution_count": 322,
   "metadata": {},
   "outputs": [],
   "source": [
    "X_test[\"NumberOfWindows\"].replace({\n",
    "    \".\":0,\n",
    "    \"1\":1,\n",
    "    \"2\":2,\n",
    "    \"2.0\":2,\n",
    "    \"3\":3,\n",
    "    \"4\":4,\n",
    "    \"5\":5,\n",
    "    \"6\":6,\n",
    "    \"7\":7,\n",
    "    \"8\":8,\n",
    "    \"9\":9,\n",
    "    \">=10\":10}, inplace=True)"
   ]
  },
  {
   "cell_type": "code",
   "execution_count": 323,
   "metadata": {},
   "outputs": [
    {
     "name": "stdout",
     "output_type": "stream",
     "text": [
      "<class 'pandas.core.frame.DataFrame'>\n",
      "RangeIndex: 3068 entries, 0 to 3067\n",
      "Data columns (total 12 columns):\n",
      " #   Column              Non-Null Count  Dtype  \n",
      "---  ------              --------------  -----  \n",
      " 0   Customer Id         3068 non-null   object \n",
      " 1   YearOfObservation   3068 non-null   float64\n",
      " 2   Insured_Period      3068 non-null   float64\n",
      " 3   Residential         3068 non-null   float64\n",
      " 4   Building_Painted    3068 non-null   int64  \n",
      " 5   Building_Fenced     3068 non-null   int64  \n",
      " 6   Garden              3068 non-null   int64  \n",
      " 7   Settlement          3068 non-null   int64  \n",
      " 8   Building Dimension  3068 non-null   float64\n",
      " 9   Building_Type       3068 non-null   float64\n",
      " 10  Date_of_Occupancy   2339 non-null   float64\n",
      " 11  NumberOfWindows     3068 non-null   int64  \n",
      "dtypes: float64(6), int64(5), object(1)\n",
      "memory usage: 287.8+ KB\n"
     ]
    }
   ],
   "source": [
    "X_test.info()"
   ]
  },
  {
   "cell_type": "code",
   "execution_count": 324,
   "metadata": {},
   "outputs": [],
   "source": [
    "X_test[\"Date_of_Occupancy\"] = (X_test[\"Date_of_Occupancy\"] - X[\"Date_of_Occupancy\"].min()) / (X[\"Date_of_Occupancy\"].max() - X[\"Date_of_Occupancy\"].min())\n",
    "\n",
    "X_test[\"NumberOfWindows\"] = X_test[\"NumberOfWindows\"] / 10\n",
    "\n",
    "X_test[\"Building Dimension\"] = ( X_test[\"Building Dimension\"] - X[\"Building Dimension\"].mean()) / (X[\"Building Dimension\"].std() )\n",
    "\n",
    "X_test[\"YearOfObservation\"] = ( X_test[\"YearOfObservation\"] - X[\"YearOfObservation\"].min()) / (X[\"YearOfObservation\"].max() - X[\"YearOfObservation\"].min())"
   ]
  },
  {
   "cell_type": "code",
   "execution_count": 325,
   "metadata": {},
   "outputs": [
    {
     "data": {
      "text/html": [
       "<div>\n",
       "<style scoped>\n",
       "    .dataframe tbody tr th:only-of-type {\n",
       "        vertical-align: middle;\n",
       "    }\n",
       "\n",
       "    .dataframe tbody tr th {\n",
       "        vertical-align: top;\n",
       "    }\n",
       "\n",
       "    .dataframe thead th {\n",
       "        text-align: right;\n",
       "    }\n",
       "</style>\n",
       "<table border=\"1\" class=\"dataframe\">\n",
       "  <thead>\n",
       "    <tr style=\"text-align: right;\">\n",
       "      <th></th>\n",
       "      <th>YearOfObservation</th>\n",
       "      <th>Insured_Period</th>\n",
       "      <th>Residential</th>\n",
       "      <th>Building_Painted</th>\n",
       "      <th>Building_Fenced</th>\n",
       "      <th>Garden</th>\n",
       "      <th>Settlement</th>\n",
       "      <th>Building Dimension</th>\n",
       "      <th>Building_Type</th>\n",
       "      <th>Date_of_Occupancy</th>\n",
       "      <th>NumberOfWindows</th>\n",
       "    </tr>\n",
       "  </thead>\n",
       "  <tbody>\n",
       "    <tr>\n",
       "      <th>count</th>\n",
       "      <td>3068.000000</td>\n",
       "      <td>3068.000000</td>\n",
       "      <td>3068.000000</td>\n",
       "      <td>3068.000000</td>\n",
       "      <td>3068.000000</td>\n",
       "      <td>3068.000000</td>\n",
       "      <td>3068.000000</td>\n",
       "      <td>3068.000000</td>\n",
       "      <td>3068.000000</td>\n",
       "      <td>2339.000000</td>\n",
       "      <td>3068.000000</td>\n",
       "    </tr>\n",
       "    <tr>\n",
       "      <th>mean</th>\n",
       "      <td>0.400016</td>\n",
       "      <td>0.922779</td>\n",
       "      <td>0.224250</td>\n",
       "      <td>0.451760</td>\n",
       "      <td>0.270209</td>\n",
       "      <td>0.731095</td>\n",
       "      <td>0.270209</td>\n",
       "      <td>-0.115784</td>\n",
       "      <td>2.360169</td>\n",
       "      <td>0.895700</td>\n",
       "      <td>0.118220</td>\n",
       "    </tr>\n",
       "    <tr>\n",
       "      <th>std</th>\n",
       "      <td>0.343446</td>\n",
       "      <td>0.218409</td>\n",
       "      <td>0.417156</td>\n",
       "      <td>0.497749</td>\n",
       "      <td>0.444140</td>\n",
       "      <td>0.443463</td>\n",
       "      <td>0.444140</td>\n",
       "      <td>0.972639</td>\n",
       "      <td>0.998370</td>\n",
       "      <td>0.053122</td>\n",
       "      <td>0.212145</td>\n",
       "    </tr>\n",
       "    <tr>\n",
       "      <th>min</th>\n",
       "      <td>0.000000</td>\n",
       "      <td>0.000000</td>\n",
       "      <td>0.000000</td>\n",
       "      <td>0.000000</td>\n",
       "      <td>0.000000</td>\n",
       "      <td>0.000000</td>\n",
       "      <td>0.000000</td>\n",
       "      <td>-0.835988</td>\n",
       "      <td>1.000000</td>\n",
       "      <td>0.435244</td>\n",
       "      <td>0.000000</td>\n",
       "    </tr>\n",
       "    <tr>\n",
       "      <th>25%</th>\n",
       "      <td>0.000000</td>\n",
       "      <td>1.000000</td>\n",
       "      <td>0.000000</td>\n",
       "      <td>0.000000</td>\n",
       "      <td>0.000000</td>\n",
       "      <td>0.000000</td>\n",
       "      <td>0.000000</td>\n",
       "      <td>-0.629913</td>\n",
       "      <td>2.000000</td>\n",
       "      <td>0.881104</td>\n",
       "      <td>0.000000</td>\n",
       "    </tr>\n",
       "    <tr>\n",
       "      <th>50%</th>\n",
       "      <td>0.250000</td>\n",
       "      <td>1.000000</td>\n",
       "      <td>0.000000</td>\n",
       "      <td>0.000000</td>\n",
       "      <td>0.000000</td>\n",
       "      <td>1.000000</td>\n",
       "      <td>0.000000</td>\n",
       "      <td>-0.446783</td>\n",
       "      <td>2.000000</td>\n",
       "      <td>0.898089</td>\n",
       "      <td>0.000000</td>\n",
       "    </tr>\n",
       "    <tr>\n",
       "      <th>75%</th>\n",
       "      <td>0.750000</td>\n",
       "      <td>1.000000</td>\n",
       "      <td>0.000000</td>\n",
       "      <td>1.000000</td>\n",
       "      <td>1.000000</td>\n",
       "      <td>1.000000</td>\n",
       "      <td>1.000000</td>\n",
       "      <td>0.001408</td>\n",
       "      <td>3.000000</td>\n",
       "      <td>0.923567</td>\n",
       "      <td>0.200000</td>\n",
       "    </tr>\n",
       "    <tr>\n",
       "      <th>max</th>\n",
       "      <td>1.000000</td>\n",
       "      <td>1.000000</td>\n",
       "      <td>1.000000</td>\n",
       "      <td>1.000000</td>\n",
       "      <td>1.000000</td>\n",
       "      <td>1.000000</td>\n",
       "      <td>1.000000</td>\n",
       "      <td>12.474037</td>\n",
       "      <td>4.000000</td>\n",
       "      <td>0.991507</td>\n",
       "      <td>1.000000</td>\n",
       "    </tr>\n",
       "  </tbody>\n",
       "</table>\n",
       "</div>"
      ],
      "text/plain": [
       "       YearOfObservation  Insured_Period  Residential  Building_Painted  \\\n",
       "count        3068.000000     3068.000000  3068.000000       3068.000000   \n",
       "mean            0.400016        0.922779     0.224250          0.451760   \n",
       "std             0.343446        0.218409     0.417156          0.497749   \n",
       "min             0.000000        0.000000     0.000000          0.000000   \n",
       "25%             0.000000        1.000000     0.000000          0.000000   \n",
       "50%             0.250000        1.000000     0.000000          0.000000   \n",
       "75%             0.750000        1.000000     0.000000          1.000000   \n",
       "max             1.000000        1.000000     1.000000          1.000000   \n",
       "\n",
       "       Building_Fenced       Garden   Settlement  Building Dimension  \\\n",
       "count      3068.000000  3068.000000  3068.000000         3068.000000   \n",
       "mean          0.270209     0.731095     0.270209           -0.115784   \n",
       "std           0.444140     0.443463     0.444140            0.972639   \n",
       "min           0.000000     0.000000     0.000000           -0.835988   \n",
       "25%           0.000000     0.000000     0.000000           -0.629913   \n",
       "50%           0.000000     1.000000     0.000000           -0.446783   \n",
       "75%           1.000000     1.000000     1.000000            0.001408   \n",
       "max           1.000000     1.000000     1.000000           12.474037   \n",
       "\n",
       "       Building_Type  Date_of_Occupancy  NumberOfWindows  \n",
       "count    3068.000000        2339.000000      3068.000000  \n",
       "mean        2.360169           0.895700         0.118220  \n",
       "std         0.998370           0.053122         0.212145  \n",
       "min         1.000000           0.435244         0.000000  \n",
       "25%         2.000000           0.881104         0.000000  \n",
       "50%         2.000000           0.898089         0.000000  \n",
       "75%         3.000000           0.923567         0.200000  \n",
       "max         4.000000           0.991507         1.000000  "
      ]
     },
     "execution_count": 325,
     "metadata": {},
     "output_type": "execute_result"
    }
   ],
   "source": [
    "X_test.describe()"
   ]
  },
  {
   "cell_type": "code",
   "execution_count": 326,
   "metadata": {},
   "outputs": [],
   "source": [
    "columns = {\n",
    "    \"Customer Id\": [],\n",
    "    \"Claim\": []\n",
    "}"
   ]
  },
  {
   "cell_type": "code",
   "execution_count": 327,
   "metadata": {},
   "outputs": [
    {
     "data": {
      "text/plain": [
       "array(['H0', 0.25, 0.350684932, 0.0, 0, 0, 1, 0, -0.6701755314547704, 2.0,\n",
       "       0.9235668789808917, 0.0], dtype=object)"
      ]
     },
     "execution_count": 327,
     "metadata": {},
     "output_type": "execute_result"
    }
   ],
   "source": [
    "X_test.values[0]"
   ]
  },
  {
   "cell_type": "code",
   "execution_count": 329,
   "metadata": {},
   "outputs": [
    {
     "name": "stderr",
     "output_type": "stream",
     "text": [
      "C:\\Users\\PCPRODZ\\AppData\\Local\\Temp\\ipykernel_23672\\1370263001.py:1: FutureWarning: The default value of numeric_only in DataFrame.mean is deprecated. In a future version, it will default to False. In addition, specifying 'numeric_only=None' is deprecated. Select only valid columns or specify the value of numeric_only to silence this warning.\n",
      "  X_test.fillna(X_test.mean(), inplace=True)\n"
     ]
    }
   ],
   "source": [
    "X_test.fillna(X_test.mean(), inplace=True)"
   ]
  },
  {
   "cell_type": "code",
   "execution_count": 330,
   "metadata": {},
   "outputs": [],
   "source": [
    "ids = X_test[\"Customer Id\"].values\n",
    "predictions = best_model.predict_proba(X_test.drop(\"Customer Id\", axis=1))"
   ]
  },
  {
   "cell_type": "code",
   "execution_count": 336,
   "metadata": {},
   "outputs": [
    {
     "data": {
      "text/plain": [
       "0"
      ]
     },
     "execution_count": 336,
     "metadata": {},
     "output_type": "execute_result"
    }
   ],
   "source": [
    "(predictions[:,1]>0.2).astype(int).sum()"
   ]
  },
  {
   "cell_type": "code",
   "execution_count": 338,
   "metadata": {},
   "outputs": [
    {
     "name": "stdout",
     "output_type": "stream",
     "text": [
      "For thresh = 0.09\n",
      " 1    2959\n",
      "0     109\n",
      "Name: Claim, dtype: int64\n",
      "For thresh = 0.08\n",
      " 1    3013\n",
      "0      55\n",
      "Name: Claim, dtype: int64\n",
      "For thresh = 0.07\n",
      " 1    3058\n",
      "0      10\n",
      "Name: Claim, dtype: int64\n"
     ]
    }
   ],
   "source": [
    "for threshold in [0.09, 0.08, 0.07]:\n",
    "    columns[\"Claim\"] = []\n",
    "\n",
    "    for index, proba in enumerate(predictions):\n",
    "        if(proba[1] > threshold):\n",
    "            columns[\"Claim\"].append(1)\n",
    "        else:\n",
    "            columns[\"Claim\"].append(0)\n",
    "\n",
    "    columns[\"Customer Id\"] = ids\n",
    "\n",
    "    submit = pd.DataFrame(columns)\n",
    "    submit.to_csv(f\"submit_{threshold}_tree.csv\", index=False)\n",
    "\n",
    "    print(f\"For thresh = {threshold}\\n\",submit[\"Claim\"].value_counts())"
   ]
  }
 ],
 "metadata": {
  "kernelspec": {
   "display_name": "python_dev",
   "language": "python",
   "name": "python3"
  },
  "language_info": {
   "codemirror_mode": {
    "name": "ipython",
    "version": 3
   },
   "file_extension": ".py",
   "mimetype": "text/x-python",
   "name": "python",
   "nbconvert_exporter": "python",
   "pygments_lexer": "ipython3",
   "version": "3.10.10"
  },
  "orig_nbformat": 4
 },
 "nbformat": 4,
 "nbformat_minor": 2
}
